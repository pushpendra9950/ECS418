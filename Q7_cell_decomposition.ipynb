{
 "cells": [
  {
   "cell_type": "code",
   "execution_count": 2,
   "metadata": {},
   "outputs": [
    {
     "data": {
      "image/png": "[encoded data removed]",
      "text/plain": [
       "<Figure size 432x288 with 1 Axes>"
      ]
     },
     "metadata": {
      "needs_background": "light"
     },
     "output_type": "display_data"
    }
   ],
   "source": [
    "import matplotlib.pyplot as plt\n",
    "import numpy as np\n",
    "import math\n",
    "speed = 3.14\n",
    "\n",
    "def ploy_map_red(x ,y):\n",
    "\n",
    "\n",
    "    plt.plot(x,y,color='Green',linestyle='dashed')\n",
    "\n",
    "\n",
    "\n",
    "#combine all x vaploy_map_red(x ,y)\n",
    "x_values = [7,5,2,2,7,9,9,7,5]\n",
    "y_values = [6,6,6,13,13,13,3,3,3]\n",
    "x_d1 = [2,2]\n",
    "x_d2 = [5,5]\n",
    "x_d3 = [7,7]\n",
    "x_d4 = [9,9]\n",
    "y_d1 = [0,21]\n",
    "y_d2 = [0,6]\n",
    "y_d3 = [3,13]\n",
    "y_d4 = [0,21]\n",
    "\n",
    "x_d = [0,0,12,12,0]\n",
    "y_d = [0,21,21,0,0]\n",
    "\n",
    "\n",
    "#now plot x_values and y_values\n",
    "plt.plot(x_d,y_d,color='black')\n",
    "plt.plot(x_values,y_values,color='blue')\n",
    "ploy_map_red(x_d1 ,y_d1)\n",
    "ploy_map_red(x_d2 ,y_d2)\n",
    "ploy_map_red(x_d3 ,y_d3)\n",
    "ploy_map_red(x_d4 ,y_d4)\n",
    "\n",
    "def plot_lawn(x ,y):\n",
    "    plt.plot(x,y,color='green',linestyle='dashed')\n",
    "    \n",
    "    \n",
    "def plot_cross(x,y):\n",
    "    plt.plot(x,y,color = 'yellow')\n",
    "\n",
    "##plot of cell decomposition\n",
    "plt.show() "
   ]
  },
  {
   "cell_type": "code",
   "execution_count": null,
   "metadata": {},
   "outputs": [],
   "source": []
  }
 ],
 "metadata": {
  "kernelspec": {
   "display_name": "Python 3.9.13 64-bit",
   "language": "python",
   "name": "python3"
  },
  "language_info": {
   "codemirror_mode": {
    "name": "ipython",
    "version": 3
   },
   "file_extension": ".py",
   "mimetype": "text/x-python",
   "name": "python",
   "nbconvert_exporter": "python",
   "pygments_lexer": "ipython3",
   "version": "3.9.13"
  },
  "orig_nbformat": 4,
  "vscode": {
   "interpreter": {
    "hash": "fb88e2a1cd53b8d9dbff83762620523b14cb2a30a8230aac7427e166fb711996"
   }
  }
 },
 "nbformat": 4,
 "nbformat_minor": 2
}
