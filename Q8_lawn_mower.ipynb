{
 "cells": [
  {
   "cell_type": "code",
   "execution_count": 1,
   "metadata": {},
   "outputs": [
    {
     "data": {
      "image/png": "[encoded data removed]",
      "text/plain": [
       "<Figure size 432x288 with 1 Axes>"
      ]
     },
     "metadata": {
      "needs_background": "light"
     },
     "output_type": "display_data"
    }
   ],
   "source": [
    "import matplotlib.pyplot as plt\n",
    "import numpy as np\n",
    "import math\n",
    "speed = 3.14\n",
    "\n",
    "def ploy_map_red(x ,y):\n",
    "#     distance_1 = 0\n",
    "    plt.plot(x,y,color='green',linestyle='dashed')\n",
    "\n",
    "x_values = [7,5,2,2,7,9,9,7,5]\n",
    "y_values = [6,6,6,13,13,13,3,3,3]\n",
    "x_d1 = [2,2]\n",
    "x_d2 = [5,5]\n",
    "x_d3 = [7,7]\n",
    "x_d4 = [9,9]\n",
    "y_d1 = [0,21]\n",
    "y_d2 = [0,6]\n",
    "y_d3 = [3,13]\n",
    "y_d4 = [0,21]\n",
    "\n",
    "x_d = [0,0,12,12,0]\n",
    "y_d = [0,21,21,0,0]\n",
    "#now plot x_values and y_values\n",
    "plt.plot(x_d,y_d,color='black')\n",
    "plt.plot(x_values,y_values,color='blue')\n",
    "ploy_map_red(x_d1 ,y_d1)\n",
    "ploy_map_red(x_d2 ,y_d2)\n",
    "ploy_map_red(x_d3 ,y_d3)\n",
    "ploy_map_red(x_d4 ,y_d4)\n",
    "\n",
    "def plot_lawn(x ,y):\n",
    "    plt.plot(x,y,color='green',linestyle='dashed')\n",
    "    \n",
    "    \n",
    "def plot_cross(x,y):\n",
    "    plt.plot(x,y,color = 'yellow')\n",
    "\n",
    "\n",
    "plt.show() "
   ]
  },
  {
   "cell_type": "code",
   "execution_count": 2,
   "metadata": {},
   "outputs": [],
   "source": [
    "def cross_jump(x,y):\n",
    "    plt.plot(x,y,color = 'black')\n",
    "    return (abs((x[1] - x[0])+(y[1] - y[0])))\n",
    "\n",
    "def move(x,y):\n",
    "\n",
    "    \n",
    "    start_point_x = x[0]+0.5\n",
    "    start_point_y = y[0]+0.5\n",
    "    check_2 = 0\n",
    "    check_1 = 'UP'\n",
    "    distance = 0\n",
    "    \n",
    "    \n",
    "    while (start_point_x != (x[2])):\n",
    "    \n",
    "        if (check_1== 'UP'):    \n",
    "            x_up = start_point_x \n",
    "            y_up = y[1] - 0.5 \n",
    "            plt.plot([start_point_x,x_up],[start_point_y,y_up],color='green',linestyle='dashed')\n",
    "            \n",
    "            distance += abs(start_point_y - y_up)\n",
    "            start_point_x = x_up\n",
    "            start_point_y = y_up\n",
    "            check_1 = 'RIGHT'\n",
    "        \n",
    "        \n",
    "        elif (check_1== 'RIGHT'):\n",
    "        \n",
    "            x_right = start_point_x + 0.5\n",
    "            y_right = start_point_y \n",
    "            plt.plot([start_point_x,x_right],[start_point_y,y_right],color='blue',linestyle='dashed')\n",
    "            start_point_x = x_right\n",
    "            start_point_y = y_right\n",
    "            check_2 = check_2 +1\n",
    "            check_2 = check_2%2\n",
    "            distance += abs(start_point_x - x_right)\n",
    "            \n",
    "            if check_2 == 1:\n",
    "                check_1 = 'DOWN'\n",
    "            else :\n",
    "                check_1 = 'UP'\n",
    "            \n",
    "            \n",
    "        elif (check_1 == 'DOWN'):\n",
    "        \n",
    "            x_down = start_point_x \n",
    "            y_down = y[0]+0.5  \n",
    "            plt.plot([start_point_x,x_down],[start_point_y,y_down],color='blue',linestyle='dashed')\n",
    "            check_1 = 'RIGHT'\n",
    "            start_point_x = x_down\n",
    "            start_point_y = y_down\n",
    "            distance += abs(start_point_y - y_down)\n",
    "    \n",
    "    \n",
    "    return (distance)"
   ]
  },
  {
   "cell_type": "markdown",
   "metadata": {},
   "source": [
    "For cell 1  lawn_mower pattern "
   ]
  },
  {
   "cell_type": "code",
   "execution_count": 3,
   "metadata": {},
   "outputs": [
    {
     "data": {
      "text/plain": [
       "40.0"
      ]
     },
     "execution_count": 3,
     "metadata": {},
     "output_type": "execute_result"
    },
    {
     "data": {
      "image/png": "[encoded data removed]",
      "text/plain": [
       "<Figure size 432x288 with 1 Axes>"
      ]
     },
     "metadata": {
      "needs_background": "light"
     },
     "output_type": "display_data"
    }
   ],
   "source": [
    "x_point_c1 = [0,0,2,2,0]\n",
    "y_point_c1 = [0,21,21,0,0]\n",
    "\n",
    "\n",
    "ploy_map_red(x_point_c1,y_point_c1)\n",
    "move(x_point_c1,y_point_c1)"
   ]
  },
  {
   "cell_type": "code",
   "execution_count": null,
   "metadata": {},
   "outputs": [],
   "source": []
  }
 ],
 "metadata": {
  "kernelspec": {
   "display_name": "Python 3.9.13 64-bit",
   "language": "python",
   "name": "python3"
  },
  "language_info": {
   "codemirror_mode": {
    "name": "ipython",
    "version": 3
   },
   "file_extension": ".py",
   "mimetype": "text/x-python",
   "name": "python",
   "nbconvert_exporter": "python",
   "pygments_lexer": "ipython3",
   "version": "3.9.13"
  },
  "orig_nbformat": 4,
  "vscode": {
   "interpreter": {
    "hash": "fb88e2a1cd53b8d9dbff83762620523b14cb2a30a8230aac7427e166fb711996"
   }
  }
 },
 "nbformat": 4,
 "nbformat_minor": 2
}
